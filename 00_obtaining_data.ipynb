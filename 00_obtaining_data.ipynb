{
 "cells": [
  {
   "cell_type": "markdown",
   "metadata": {},
   "source": [
    "# Project 3: Reddit Post Classification"
   ]
  },
  {
   "cell_type": "markdown",
   "metadata": {},
   "source": [
    "<i>Pulling information and classifying posts via Pushshift's API</i>"
   ]
  },
  {
   "cell_type": "markdown",
   "metadata": {},
   "source": [
    "**Author: Brendan McDonnell**"
   ]
  },
  {
   "cell_type": "markdown",
   "metadata": {},
   "source": [
    "## Problem Statement:"
   ]
  },
  {
   "cell_type": "markdown",
   "metadata": {},
   "source": [
    "Use Reddit's API to collect posts from two subreddits, r/The_Donald and r/Republican. Using natural language processing (NLP), I will train a classification model to predict which subreddit a given post came from."
   ]
  },
  {
   "cell_type": "markdown",
   "metadata": {},
   "source": [
    "**Reddit pages chosen**\n",
    "- https://www.reddit.com/r/Republican/\n",
    "- https://www.reddit.com/r/The_Donald/"
   ]
  },
  {
   "cell_type": "markdown",
   "metadata": {},
   "source": [
    "**From r/Republican Community Details**\n",
    "\n",
    "/r/Republican is a partisan subreddit. This is a place for Republicans to discuss issues with other Republicans.\n",
    "\n",
    "**From r/The_Donald Community Details**\n",
    "\n",
    "The_Donald is a never-ending rally dedicated to the 45th President of the United States, Donald J. Trump."
   ]
  },
  {
   "cell_type": "markdown",
   "metadata": {},
   "source": [
    "These two subreddits bear some similarities and should have some overlap. However, it's important to note that r/The_Donald has been quarantined recently for attempting to incite violence against police and other public officials, a violation of the reddit's content policy. It is a well known and used alt-right subreddit. By contrast, r/Republican is a subreddit that should reflect contemporary Republican views. There will likely be some NSFW material on r/The_Donald, but I believe a model like this could be very useful for understanding more about the current Republican viewpoint."
   ]
  },
  {
   "cell_type": "markdown",
   "metadata": {},
   "source": [
    "## Step 1: Obtaining The Data via Reddit's API"
   ]
  },
  {
   "cell_type": "markdown",
   "metadata": {},
   "source": [
    "Using Reddit's API in conjuction with the praw wrapper, I will create csv's of 15,000 rows of data for each of the subreddits chosen."
   ]
  },
  {
   "cell_type": "markdown",
   "metadata": {},
   "source": [
    "## Relative Links\n",
    "- [Pulling the Data](#Pulling-the-Data)\n",
    "- [Export the Data to CSV](#Export-the-Data-to-CSV)"
   ]
  },
  {
   "cell_type": "markdown",
   "metadata": {},
   "source": [
    "## Pulling the Data"
   ]
  },
  {
   "cell_type": "code",
   "execution_count": 28,
   "metadata": {},
   "outputs": [],
   "source": [
    "import praw\n",
    "import requests\n",
    "import time\n",
    "from datetime import datetime\n",
    "from psaw import PushshiftAPI\n",
    "import pandas as pd"
   ]
  },
  {
   "cell_type": "code",
   "execution_count": 2,
   "metadata": {},
   "outputs": [],
   "source": [
    "reddit = praw.Reddit(client_id = 'EvtTIf6Mz_xTUA',     #this is that personal use script key\n",
    "                     client_secret = '-HelFVGKjgSDv489RnL_0iFmzAM', #this is that secret key\n",
    "                     user_agent = 'the_donald_v_republican',    #Whatever name you gave your application\n",
    "                     username = 'B_Mac206',      #your Reddit user name\n",
    "                     password = 'kbrepuscankt')      #your Reddit password"
   ]
  },
  {
   "cell_type": "code",
   "execution_count": 3,
   "metadata": {},
   "outputs": [],
   "source": [
    "api = PushshiftAPI(reddit)"
   ]
  },
  {
   "cell_type": "code",
   "execution_count": 52,
   "metadata": {},
   "outputs": [
    {
     "name": "stdout",
     "output_type": "stream",
     "text": [
      "newsinpics\n",
      "Ulisaax\n",
      "joankun\n",
      "JackieWayne\n",
      "BanderasRepublicana\n",
      "BanderasRepublicana\n",
      "BanderasRepublicana\n",
      "alexalbegri2\n",
      "opnowalvepee79\n",
      "yos12\n"
     ]
    }
   ],
   "source": [
    "for i in api.search_submissions(subreddit='Republica', limit=10):\n",
    "    print(i.author)"
   ]
  },
  {
   "cell_type": "code",
   "execution_count": 56,
   "metadata": {},
   "outputs": [],
   "source": [
    "def subreddit_dict(subreddit, limit):\n",
    "    '''\n",
    "    Take in subreddit, and spit out df of reddit data for subreddit w/ specified rows (limit).    \n",
    "    '''\n",
    "#     Using Heather's code from CHI-FLEX-8 to create for loop to produce df of reddit data\n",
    "    counter = 0\n",
    "    sleep_counter = 0\n",
    "    topics_dict = { \"title\":[],\n",
    "                \"score\":[],\n",
    "                \"id\":[],\n",
    "                \"url\":[], \n",
    "                \"comms_num\": [],\n",
    "                \"created\": [],\n",
    "                \"body\":[],\n",
    "                \"user\": []}\n",
    "\n",
    "#     Use a for loop to take the posts gathered by the wrapper and place them into a dictionary.\n",
    "\n",
    "    for item in api.search_submissions(subreddit=subreddit,limit=limit):\n",
    "        topics_dict[\"title\"].append(item.title)\n",
    "        topics_dict[\"score\"].append(item.score)\n",
    "        topics_dict[\"id\"].append(item.id)\n",
    "        topics_dict[\"url\"].append(item.url)\n",
    "        topics_dict[\"comms_num\"].append(item.num_comments)\n",
    "        topics_dict[\"created\"].append(item.created)\n",
    "        topics_dict[\"body\"].append(item.selftext)\n",
    "        topics_dict[\"user\"].append(item.author)\n",
    "        counter +=1\n",
    "        sleep_counter += 1\n",
    "        if sleep_counter > 100:\n",
    "            print(counter)\n",
    "            time.sleep(3)\n",
    "            sleep_counter = 0\n",
    "    df =  pd.DataFrame(topics_dict)\n",
    "    df['created'] = df['created'].apply(lambda x: datetime.fromtimestamp(x))\n",
    "    return df    "
   ]
  },
  {
   "cell_type": "code",
   "execution_count": 61,
   "metadata": {
    "scrolled": true
   },
   "outputs": [
    {
     "name": "stdout",
     "output_type": "stream",
     "text": [
      "101\n",
      "202\n",
      "303\n",
      "404\n",
      "505\n",
      "606\n",
      "707\n",
      "808\n",
      "909\n",
      "1010\n",
      "1111\n",
      "1212\n",
      "1313\n",
      "1414\n",
      "1515\n",
      "1616\n",
      "1717\n",
      "1818\n",
      "1919\n",
      "2020\n",
      "2121\n",
      "2222\n",
      "2323\n",
      "2424\n",
      "2525\n",
      "2626\n",
      "2727\n",
      "2828\n",
      "2929\n",
      "3030\n",
      "3131\n",
      "3232\n",
      "3333\n",
      "3434\n",
      "3535\n",
      "3636\n",
      "3737\n",
      "3838\n",
      "3939\n",
      "4040\n",
      "4141\n",
      "4242\n",
      "4343\n",
      "4444\n",
      "4545\n",
      "4646\n",
      "4747\n",
      "4848\n",
      "4949\n",
      "5050\n",
      "5151\n",
      "5252\n",
      "5353\n",
      "5454\n",
      "5555\n",
      "5656\n",
      "5757\n",
      "5858\n",
      "5959\n",
      "6060\n",
      "6161\n",
      "6262\n",
      "6363\n",
      "6464\n",
      "6565\n",
      "6666\n",
      "6767\n",
      "6868\n",
      "6969\n",
      "7070\n",
      "7171\n",
      "7272\n",
      "7373\n",
      "7474\n",
      "7575\n",
      "7676\n",
      "7777\n",
      "7878\n",
      "7979\n",
      "8080\n",
      "8181\n",
      "8282\n",
      "8383\n",
      "8484\n",
      "8585\n",
      "8686\n",
      "8787\n",
      "8888\n",
      "8989\n",
      "9090\n",
      "9191\n",
      "9292\n",
      "9393\n",
      "9494\n",
      "9595\n",
      "9696\n",
      "9797\n",
      "9898\n",
      "9999\n",
      "10100\n",
      "10201\n",
      "10302\n",
      "10403\n",
      "10504\n",
      "10605\n",
      "10706\n",
      "10807\n",
      "10908\n",
      "11009\n",
      "11110\n",
      "11211\n",
      "11312\n",
      "11413\n",
      "11514\n",
      "11615\n",
      "11716\n",
      "11817\n",
      "11918\n",
      "12019\n",
      "12120\n",
      "12221\n",
      "12322\n",
      "12423\n",
      "12524\n",
      "12625\n",
      "12726\n",
      "12827\n",
      "12928\n",
      "13029\n",
      "13130\n",
      "13231\n",
      "13332\n",
      "13433\n",
      "13534\n",
      "13635\n",
      "13736\n",
      "13837\n",
      "13938\n",
      "14039\n",
      "14140\n",
      "14241\n",
      "14342\n",
      "14443\n",
      "14544\n",
      "14645\n",
      "14746\n",
      "14847\n",
      "14948\n"
     ]
    }
   ],
   "source": [
    "# the_donald_df = subreddit_dict('The_Donald', 15_000)"
   ]
  },
  {
   "cell_type": "code",
   "execution_count": 60,
   "metadata": {},
   "outputs": [
    {
     "name": "stdout",
     "output_type": "stream",
     "text": [
      "101\n",
      "202\n",
      "303\n",
      "404\n",
      "505\n",
      "606\n",
      "707\n",
      "808\n",
      "909\n",
      "1010\n",
      "1111\n",
      "1212\n",
      "1313\n",
      "1414\n",
      "1515\n",
      "1616\n",
      "1717\n",
      "1818\n",
      "1919\n",
      "2020\n",
      "2121\n",
      "2222\n",
      "2323\n",
      "2424\n",
      "2525\n",
      "2626\n",
      "2727\n",
      "2828\n",
      "2929\n",
      "3030\n",
      "3131\n",
      "3232\n",
      "3333\n",
      "3434\n",
      "3535\n",
      "3636\n",
      "3737\n",
      "3838\n",
      "3939\n",
      "4040\n",
      "4141\n",
      "4242\n",
      "4343\n",
      "4444\n",
      "4545\n",
      "4646\n",
      "4747\n",
      "4848\n",
      "4949\n",
      "5050\n",
      "5151\n",
      "5252\n",
      "5353\n",
      "5454\n",
      "5555\n",
      "5656\n",
      "5757\n",
      "5858\n",
      "5959\n",
      "6060\n",
      "6161\n",
      "6262\n",
      "6363\n",
      "6464\n",
      "6565\n",
      "6666\n",
      "6767\n",
      "6868\n",
      "6969\n",
      "7070\n",
      "7171\n",
      "7272\n",
      "7373\n",
      "7474\n",
      "7575\n",
      "7676\n",
      "7777\n",
      "7878\n",
      "7979\n",
      "8080\n",
      "8181\n",
      "8282\n",
      "8383\n",
      "8484\n",
      "8585\n",
      "8686\n",
      "8787\n",
      "8888\n",
      "8989\n",
      "9090\n",
      "9191\n",
      "9292\n",
      "9393\n",
      "9494\n",
      "9595\n",
      "9696\n",
      "9797\n",
      "9898\n",
      "9999\n",
      "10100\n",
      "10201\n",
      "10302\n",
      "10403\n",
      "10504\n",
      "10605\n",
      "10706\n",
      "10807\n",
      "10908\n",
      "11009\n",
      "11110\n",
      "11211\n",
      "11312\n",
      "11413\n",
      "11514\n",
      "11615\n",
      "11716\n",
      "11817\n",
      "11918\n",
      "12019\n",
      "12120\n",
      "12221\n",
      "12322\n",
      "12423\n",
      "12524\n",
      "12625\n",
      "12726\n",
      "12827\n",
      "12928\n",
      "13029\n",
      "13130\n",
      "13231\n",
      "13332\n",
      "13433\n",
      "13534\n",
      "13635\n",
      "13736\n",
      "13837\n",
      "13938\n",
      "14039\n",
      "14140\n",
      "14241\n",
      "14342\n",
      "14443\n",
      "14544\n",
      "14645\n",
      "14746\n",
      "14847\n",
      "14948\n"
     ]
    }
   ],
   "source": [
    "# republican_df = subreddit_dict('Republican', 15_000)"
   ]
  },
  {
   "cell_type": "code",
   "execution_count": 62,
   "metadata": {},
   "outputs": [
    {
     "data": {
      "text/plain": [
       "((15000, 8), (14999, 8))"
      ]
     },
     "execution_count": 62,
     "metadata": {},
     "output_type": "execute_result"
    }
   ],
   "source": [
    "republican_df.shape, the_donald_df.shape"
   ]
  },
  {
   "cell_type": "markdown",
   "metadata": {},
   "source": [
    "## Export the Data to CSV "
   ]
  },
  {
   "cell_type": "code",
   "execution_count": 64,
   "metadata": {},
   "outputs": [],
   "source": [
    "# republican_df.to_csv('data/republican.csv')"
   ]
  },
  {
   "cell_type": "code",
   "execution_count": 66,
   "metadata": {},
   "outputs": [],
   "source": [
    "# the_donald_df.to_csv('data/the_donald.csv')"
   ]
  },
  {
   "cell_type": "code",
   "execution_count": null,
   "metadata": {},
   "outputs": [],
   "source": []
  }
 ],
 "metadata": {
  "kernelspec": {
   "display_name": "Python 3",
   "language": "python",
   "name": "python3"
  },
  "language_info": {
   "codemirror_mode": {
    "name": "ipython",
    "version": 3
   },
   "file_extension": ".py",
   "mimetype": "text/x-python",
   "name": "python",
   "nbconvert_exporter": "python",
   "pygments_lexer": "ipython3",
   "version": "3.6.5"
  }
 },
 "nbformat": 4,
 "nbformat_minor": 2
}
